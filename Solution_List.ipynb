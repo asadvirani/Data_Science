{
  "nbformat": 4,
  "nbformat_minor": 0,
  "metadata": {
    "colab": {
      "provenance": []
    },
    "kernelspec": {
      "name": "python3",
      "display_name": "Python 3"
    },
    "language_info": {
      "name": "python"
    }
  },
  "cells": [
    {
      "cell_type": "code",
      "execution_count": null,
      "metadata": {
        "colab": {
          "base_uri": "https://localhost:8080/"
        },
        "id": "p8E3lddtO3X9",
        "outputId": "35e29e66-d728-43b5-eab1-36fe37a767c7"
      },
      "outputs": [
        {
          "output_type": "stream",
          "name": "stdout",
          "text": [
            "Enter a number10\n",
            "Enter a number20\n",
            "Enter a number30\n",
            "your numbers are 10 20 30\n"
          ]
        }
      ],
      "source": [
        "# Write a program that accepts a list (10 elements) from user\n",
        "input_1 = input(\"Enter a number\")\n",
        "input_2 = input(\"Enter a number\")\n",
        "input_3 = input(\"Enter a number\")\n",
        "\n",
        "\n",
        "print('your numbers are', input_1, input_2, input_3)"
      ]
    },
    {
      "cell_type": "code",
      "source": [
        "# # Print the elements of the list\n",
        "\n",
        "list= [input_1, input_2, input_3]\n",
        "\n",
        "print(type(list), list)"
      ],
      "metadata": {
        "colab": {
          "base_uri": "https://localhost:8080/"
        },
        "id": "3Fex9cUQPwop",
        "outputId": "13c90822-2834-4037-dba7-7c87ab00ca60"
      },
      "execution_count": null,
      "outputs": [
        {
          "output_type": "stream",
          "name": "stdout",
          "text": [
            "<class 'list'> ['10', '20', '30']\n"
          ]
        }
      ]
    },
    {
      "cell_type": "code",
      "source": [
        "# Your program should reverse the content of list and display it.\n",
        "\n",
        "list.reverse()\n",
        "\n",
        "print(type(list), list)"
      ],
      "metadata": {
        "colab": {
          "base_uri": "https://localhost:8080/"
        },
        "id": "5Xr09CYRPntt",
        "outputId": "c264945f-f8f6-4867-a3bb-358b6cf20ef4"
      },
      "execution_count": null,
      "outputs": [
        {
          "output_type": "stream",
          "name": "stdout",
          "text": [
            "<class 'list'> ['30', '20', '10']\n"
          ]
        }
      ]
    },
    {
      "cell_type": "code",
      "source": [
        "# Write a program that rotates the element of a list so that the element at the\n",
        "# first index moves to the second index, the element in the second index\n",
        "# moves to the third index, etc., and the element in the last index moves to the\n",
        "# first index.\n",
        "\n",
        "# suppose list = [1,2,3,4] so it should become [4,1,2,3]\n",
        "list= [1,2,3,4]\n",
        "# solution 1\n",
        "temp= list[-1]\n",
        "print(temp)\n",
        "\n",
        "list[3]=list[2]\n",
        "list[2]=list[1]\n",
        "list[1]=list[0]\n",
        "\n",
        "print(list)\n",
        "\n",
        "list[0]= temp\n",
        "print(list)\n",
        "\n",
        "\n",
        "# ------------------------------------\n",
        "# sol 2\n",
        "list= [1,2,3,4]\n",
        "\n",
        "list_temp = list[0:3]\n",
        "print(list_temp)\n",
        "# temp = list[3]  or list[-1]\n",
        "# list_temp.insert(0, temp)\n",
        "list_temp.insert(0, list[-1])\n",
        "print(list_temp)\n",
        "\n"
      ],
      "metadata": {
        "colab": {
          "base_uri": "https://localhost:8080/"
        },
        "id": "fVW3B2d_QD-y",
        "outputId": "d1d42c58-286d-46a0-aaef-d760a1846737"
      },
      "execution_count": null,
      "outputs": [
        {
          "output_type": "stream",
          "name": "stdout",
          "text": [
            "4\n",
            "[1, 1, 2, 3]\n",
            "[4, 1, 2, 3]\n",
            "[1, 2, 3]\n",
            "[4, 1, 2, 3]\n"
          ]
        }
      ]
    },
    {
      "cell_type": "code",
      "source": [
        "# Write a program that takes input from the user containing day, month, and\n",
        "# year. It should print the date in the form March 12, 2021.\n",
        "\n",
        "day = input(\"Enter day\")\n",
        "month = input(\"Enter month\")\n",
        "year = input(\"Enter year\")\n",
        "\n",
        "# note there should be no gap after f\n",
        "print(f\"{month},{day} {year}\")"
      ],
      "metadata": {
        "colab": {
          "base_uri": "https://localhost:8080/"
        },
        "id": "HFs6LoQDSJGt",
        "outputId": "fd572ee9-11ac-4ac8-afcb-b55781c58adc"
      },
      "execution_count": null,
      "outputs": [
        {
          "output_type": "stream",
          "name": "stdout",
          "text": [
            "Enter day24\n",
            "Enter month04\n",
            "Enter year2001\n",
            "$04,$24 $2001\n"
          ]
        }
      ]
    },
    {
      "cell_type": "code",
      "source": [
        "# ind the sum of each list. Create three lists and fill in the following numbers\n",
        "# mentioned below in the list.\n",
        "\n",
        "list1 = [2,11,7,12]\n",
        "list2 = [5,2,9,15]\n",
        "list3 = [8,3,10,42]\n",
        "\n",
        "list1_sum= list1[0]+list1[1]+list1[2]+list1[3]\n",
        "list2_sum= list2[0]+list2[1]+list2[2]+list2[3]\n",
        "list3_sum=list3[0]+list3[1]+list3[2]+list3[3]\n",
        "\n",
        "print('Sum of List 1 = ', list1_sum)\n",
        "print('Sum of List 2 = ', list2_sum)\n",
        "print('Sum of List 3 = ', list3_sum)\n"
      ],
      "metadata": {
        "colab": {
          "base_uri": "https://localhost:8080/"
        },
        "id": "dhkLol7WTYA9",
        "outputId": "1f4b6a22-2702-4b23-fbc1-e6a6077d850b"
      },
      "execution_count": 5,
      "outputs": [
        {
          "output_type": "stream",
          "name": "stdout",
          "text": [
            "Sum of List 1 =  32\n",
            "Sum of List 2 =  31\n",
            "Sum of List 3 =  63\n"
          ]
        }
      ]
    },
    {
      "cell_type": "code",
      "source": [
        "# edo the 5th task by taking user input values this time, rather than filling the\n",
        "# list with hard coded values. And then find the sum and display it\n",
        "\n",
        "List1_input_1 = int(input(\"Enter a number\"))\n",
        "List1_input_2 = int(input(\"Enter a number\"))\n",
        "List1_input_3 = int(input(\"Enter a number\"))\n",
        "List1_input_4 = int(input(\"Enter a number\"))\n",
        "\n",
        "list1 = [List1_input_1, List1_input_2, List1_input_3, List1_input_4]\n",
        "print(list1)\n",
        "print(type(list1))\n",
        "\n",
        "# List2_input_1 = int(input(\"Enter a number\"))\n",
        "# List2_input_2 = int(input(\"Enter a number\"))\n",
        "# List2_input_3 =int(input(\"Enter a number\"))\n",
        "# List2_input_4 = int(input(\"Enter a number\"))\n",
        "\n",
        "# List2 = [List2_input_1, List2_input_2, List2_input_3, List2_input_4]\n",
        "# print(List2)\n",
        "\n",
        "# List3_input_1 = int(input(\"Enter a number\"))\n",
        "# List3_input_2 = int(input(\"Enter a number\"))\n",
        "# List3_input_3 =int(input(\"Enter a number\"))\n",
        "# List3_input_4 = int(input(\"Enter a number\"))\n",
        "\n",
        "# List3 = [List3_input_1, List3_input_2, List3_input_3, List3_input_4]\n",
        "# print(List3)\n",
        "\n",
        "list1_sum= list1[0]+list1[1]+list1[2]+list1[3]\n",
        "# list2_sum= list2[0]+list2[1]+list2[2]+list2[3]\n",
        "# list3_sum=list3[0]+list3[1]+list3[2]+list3[3]\n",
        "\n",
        "print('Sum of List 1 = ', list1_sum)\n",
        "# print('Sum of List 2 = ', list2_sum)\n",
        "# print('Sum of List 3 = ', list3_sum)\n",
        "\n",
        "\n",
        "\n"
      ],
      "metadata": {
        "colab": {
          "base_uri": "https://localhost:8080/"
        },
        "id": "BsdtgyOSkI_i",
        "outputId": "92aab8bf-1dd7-4ce0-cae7-726f181ec21b"
      },
      "execution_count": 4,
      "outputs": [
        {
          "output_type": "stream",
          "name": "stdout",
          "text": [
            "Enter a number10\n",
            "Enter a number11\n",
            "Enter a number12\n",
            "Enter a number13\n",
            "[10, 11, 12, 13]\n",
            "<class 'list'>\n",
            "Sum of List 1 =  46\n"
          ]
        }
      ]
    },
    {
      "cell_type": "code",
      "source": [
        "# rite a program to add two lists (list 1 and list 2 defined already in the\n",
        "# above section). Display the sum in the following format:\n",
        "# Sum of list 1&2 = 63\n",
        "\n",
        "list1_and_List2_sum= list1_sum + list2_sum\n",
        "\n",
        "list1_and_List2_product= list1_sum * list2_sum\n",
        "\n",
        "print('Sum of list 1&2 = ', list1_and_List2_sum)\n",
        "\n",
        "print('Product of list 1&2 = ', list1_and_List2_product)\n",
        "\n"
      ],
      "metadata": {
        "colab": {
          "base_uri": "https://localhost:8080/"
        },
        "id": "e3ehOqaBlpet",
        "outputId": "ce0c6e55-9209-4963-95dc-0d056145aff6"
      },
      "execution_count": 7,
      "outputs": [
        {
          "output_type": "stream",
          "name": "stdout",
          "text": [
            "Sum of list 1&2 =  63\n",
            "Product of list 1&2 =  992\n"
          ]
        }
      ]
    }
  ]
}