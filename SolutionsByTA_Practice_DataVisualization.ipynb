{
 "cells": [
  {
   "cell_type": "markdown",
   "id": "4c03cd34",
   "metadata": {},
   "source": [
    "Impprt\n",
    "1. Import order.csv file provided\n",
    "\n",
    "*Data Exploration:*\n",
    "\n",
    "2. How many rows and columns are there in the dataset?\n",
    "3. What are the names of the columns?\n",
    "4. What are datatypes of each column? If there is incorrect data type change it into the correct format. \n",
    "\n",
    "*Summary Statistics:*\n",
    "\n",
    "5. What is average unit price of pencil?\n",
    "6. What is total number of unit sold for each item in Central Region\n",
    "7. What is the total number of pen sold in east region\n",
    "8. How many pencil were sold by the representative Jones\n",
    "\n",
    "*Missing Values:*\n",
    "\n",
    "9. Are there any missing values in the dataset? If yes, which columns have missing values, and how many missing values are there in each?\n",
    "10. Delete the rows containing missing values.\n",
    "\n",
    "*Data Visualization:*\n",
    "\n",
    "11. Create a line chart that illustrates the trend of total column over the recorded dates\n",
    "12. Create a barchart that shows total unit sold for each item\n",
    "13. Display top 3 items with most unit sold in East Region using a bar chart. \n",
    "14. Plot item and total number of unit sold where unit sold is less than 200.\n",
    "15. Plot the min and max unit_cost of each item in Central Region. (Hint: you can use agg function to apply multple types of aggegration e.g. min_max_unit_cost = central_df.groupby('Item')['Unit Cost'].agg(['min', 'max']))\n",
    "\n",
    "\n"
   ]
  },
  {
   "cell_type": "markdown",
   "id": "03f001c2",
   "metadata": {},
   "source": [
    "\n"
   ]
  },
  {
   "cell_type": "code",
   "execution_count": 1,
   "id": "df93864d",
   "metadata": {},
   "outputs": [],
   "source": [
    "import pandas as pd"
   ]
  },
  {
   "cell_type": "code",
   "execution_count": 42,
   "id": "a4991bd8",
   "metadata": {},
   "outputs": [],
   "source": [
    "data = pd.read_csv(\"orders.csv\")"
   ]
  },
  {
   "cell_type": "code",
   "execution_count": 17,
   "id": "11f2b604",
   "metadata": {},
   "outputs": [
    {
     "name": "stdout",
     "output_type": "stream",
     "text": [
      "43 7\n"
     ]
    }
   ],
   "source": [
    "row, col = data.shape\n",
    "print(row, col)"
   ]
  },
  {
   "cell_type": "code",
   "execution_count": 18,
   "id": "884ec0af",
   "metadata": {},
   "outputs": [
    {
     "data": {
      "text/plain": [
       "Index(['OrderDate', 'Region', 'Rep', 'Item', 'Units', 'Unit Cost', 'Total'], dtype='object')"
      ]
     },
     "execution_count": 18,
     "metadata": {},
     "output_type": "execute_result"
    }
   ],
   "source": [
    "data.columns"
   ]
  },
  {
   "cell_type": "code",
   "execution_count": 19,
   "id": "13535e1c",
   "metadata": {},
   "outputs": [
    {
     "name": "stdout",
     "output_type": "stream",
     "text": [
      "OrderDate\n",
      "Region\n",
      "Rep\n",
      "Item\n",
      "Units\n",
      "Unit Cost\n",
      "Total\n"
     ]
    }
   ],
   "source": [
    "for col in data.columns:\n",
    "    print(col)"
   ]
  },
  {
   "cell_type": "code",
   "execution_count": 20,
   "id": "ae6c8b76",
   "metadata": {},
   "outputs": [
    {
     "data": {
      "text/plain": [
       "OrderDate     object\n",
       "Region        object\n",
       "Rep           object\n",
       "Item          object\n",
       "Units        float64\n",
       "Unit Cost    float64\n",
       "Total        float64\n",
       "dtype: object"
      ]
     },
     "execution_count": 20,
     "metadata": {},
     "output_type": "execute_result"
    }
   ],
   "source": [
    "data.dtypes"
   ]
  },
  {
   "cell_type": "code",
   "execution_count": 22,
   "id": "08fc1b7c",
   "metadata": {},
   "outputs": [],
   "source": [
    "data['OrderDate']= pd.to_datetime(data['OrderDate'])"
   ]
  },
  {
   "cell_type": "code",
   "execution_count": 24,
   "id": "3e0e3aaf",
   "metadata": {},
   "outputs": [
    {
     "data": {
      "text/plain": [
       "OrderDate    datetime64[ns]\n",
       "Region               object\n",
       "Rep                  object\n",
       "Item                 object\n",
       "Units               float64\n",
       "Unit Cost           float64\n",
       "Total               float64\n",
       "dtype: object"
      ]
     },
     "execution_count": 24,
     "metadata": {},
     "output_type": "execute_result"
    }
   ],
   "source": [
    "data.dtypes"
   ]
  },
  {
   "cell_type": "code",
   "execution_count": 25,
   "id": "f1b3c36c",
   "metadata": {},
   "outputs": [
    {
     "data": {
      "text/html": [
       "<div>\n",
       "<style scoped>\n",
       "    .dataframe tbody tr th:only-of-type {\n",
       "        vertical-align: middle;\n",
       "    }\n",
       "\n",
       "    .dataframe tbody tr th {\n",
       "        vertical-align: top;\n",
       "    }\n",
       "\n",
       "    .dataframe thead th {\n",
       "        text-align: right;\n",
       "    }\n",
       "</style>\n",
       "<table border=\"1\" class=\"dataframe\">\n",
       "  <thead>\n",
       "    <tr style=\"text-align: right;\">\n",
       "      <th></th>\n",
       "      <th>OrderDate</th>\n",
       "      <th>Region</th>\n",
       "      <th>Rep</th>\n",
       "      <th>Item</th>\n",
       "      <th>Units</th>\n",
       "      <th>Unit Cost</th>\n",
       "      <th>Total</th>\n",
       "    </tr>\n",
       "  </thead>\n",
       "  <tbody>\n",
       "    <tr>\n",
       "      <th>0</th>\n",
       "      <td>2019-01-06</td>\n",
       "      <td>East</td>\n",
       "      <td>Jones</td>\n",
       "      <td>Pencil</td>\n",
       "      <td>95.0</td>\n",
       "      <td>1.99</td>\n",
       "      <td>189.05</td>\n",
       "    </tr>\n",
       "    <tr>\n",
       "      <th>1</th>\n",
       "      <td>2019-01-23</td>\n",
       "      <td>Central</td>\n",
       "      <td>Kivell</td>\n",
       "      <td>Binder</td>\n",
       "      <td>50.0</td>\n",
       "      <td>19.99</td>\n",
       "      <td>999.50</td>\n",
       "    </tr>\n",
       "    <tr>\n",
       "      <th>2</th>\n",
       "      <td>2019-02-09</td>\n",
       "      <td>Central</td>\n",
       "      <td>Jardine</td>\n",
       "      <td>Pencil</td>\n",
       "      <td>36.0</td>\n",
       "      <td>4.99</td>\n",
       "      <td>179.64</td>\n",
       "    </tr>\n",
       "    <tr>\n",
       "      <th>3</th>\n",
       "      <td>2019-02-26</td>\n",
       "      <td>Central</td>\n",
       "      <td>Gill</td>\n",
       "      <td>Pen</td>\n",
       "      <td>27.0</td>\n",
       "      <td>19.99</td>\n",
       "      <td>539.73</td>\n",
       "    </tr>\n",
       "    <tr>\n",
       "      <th>4</th>\n",
       "      <td>2019-03-15</td>\n",
       "      <td>West</td>\n",
       "      <td>Sorvino</td>\n",
       "      <td>Pencil</td>\n",
       "      <td>56.0</td>\n",
       "      <td>2.99</td>\n",
       "      <td>167.44</td>\n",
       "    </tr>\n",
       "    <tr>\n",
       "      <th>5</th>\n",
       "      <td>2019-04-01</td>\n",
       "      <td>East</td>\n",
       "      <td>Jones</td>\n",
       "      <td>Binder</td>\n",
       "      <td>60.0</td>\n",
       "      <td>4.99</td>\n",
       "      <td>299.40</td>\n",
       "    </tr>\n",
       "    <tr>\n",
       "      <th>6</th>\n",
       "      <td>2019-04-18</td>\n",
       "      <td>Central</td>\n",
       "      <td>Andrews</td>\n",
       "      <td>Pencil</td>\n",
       "      <td>75.0</td>\n",
       "      <td>1.99</td>\n",
       "      <td>149.25</td>\n",
       "    </tr>\n",
       "    <tr>\n",
       "      <th>7</th>\n",
       "      <td>2019-05-05</td>\n",
       "      <td>Central</td>\n",
       "      <td>Jardine</td>\n",
       "      <td>Pencil</td>\n",
       "      <td>90.0</td>\n",
       "      <td>4.99</td>\n",
       "      <td>449.10</td>\n",
       "    </tr>\n",
       "    <tr>\n",
       "      <th>8</th>\n",
       "      <td>2019-05-22</td>\n",
       "      <td>West</td>\n",
       "      <td>Thompson</td>\n",
       "      <td>Pencil</td>\n",
       "      <td>32.0</td>\n",
       "      <td>1.99</td>\n",
       "      <td>63.68</td>\n",
       "    </tr>\n",
       "    <tr>\n",
       "      <th>9</th>\n",
       "      <td>2019-06-08</td>\n",
       "      <td>East</td>\n",
       "      <td>Jones</td>\n",
       "      <td>Binder</td>\n",
       "      <td>60.0</td>\n",
       "      <td>8.99</td>\n",
       "      <td>539.40</td>\n",
       "    </tr>\n",
       "    <tr>\n",
       "      <th>10</th>\n",
       "      <td>2019-06-25</td>\n",
       "      <td>Central</td>\n",
       "      <td>Morgan</td>\n",
       "      <td>Pencil</td>\n",
       "      <td>90.0</td>\n",
       "      <td>4.99</td>\n",
       "      <td>449.10</td>\n",
       "    </tr>\n",
       "    <tr>\n",
       "      <th>11</th>\n",
       "      <td>2019-07-12</td>\n",
       "      <td>East</td>\n",
       "      <td>Howard</td>\n",
       "      <td>Binder</td>\n",
       "      <td>29.0</td>\n",
       "      <td>1.99</td>\n",
       "      <td>57.71</td>\n",
       "    </tr>\n",
       "    <tr>\n",
       "      <th>12</th>\n",
       "      <td>2019-07-29</td>\n",
       "      <td>East</td>\n",
       "      <td>Parent</td>\n",
       "      <td>Binder</td>\n",
       "      <td>81.0</td>\n",
       "      <td>19.99</td>\n",
       "      <td>1619.19</td>\n",
       "    </tr>\n",
       "    <tr>\n",
       "      <th>13</th>\n",
       "      <td>2019-08-15</td>\n",
       "      <td>East</td>\n",
       "      <td>Jones</td>\n",
       "      <td>Pencil</td>\n",
       "      <td>35.0</td>\n",
       "      <td>4.99</td>\n",
       "      <td>174.65</td>\n",
       "    </tr>\n",
       "    <tr>\n",
       "      <th>14</th>\n",
       "      <td>2019-09-01</td>\n",
       "      <td>Central</td>\n",
       "      <td>Smith</td>\n",
       "      <td>Desk</td>\n",
       "      <td>2.0</td>\n",
       "      <td>125.00</td>\n",
       "      <td>250.00</td>\n",
       "    </tr>\n",
       "    <tr>\n",
       "      <th>15</th>\n",
       "      <td>2019-09-18</td>\n",
       "      <td>East</td>\n",
       "      <td>Jones</td>\n",
       "      <td>Pen Set</td>\n",
       "      <td>16.0</td>\n",
       "      <td>15.99</td>\n",
       "      <td>255.84</td>\n",
       "    </tr>\n",
       "    <tr>\n",
       "      <th>16</th>\n",
       "      <td>2019-10-05</td>\n",
       "      <td>Central</td>\n",
       "      <td>Morgan</td>\n",
       "      <td>Binder</td>\n",
       "      <td>28.0</td>\n",
       "      <td>8.99</td>\n",
       "      <td>251.72</td>\n",
       "    </tr>\n",
       "    <tr>\n",
       "      <th>17</th>\n",
       "      <td>2019-10-22</td>\n",
       "      <td>East</td>\n",
       "      <td>Jones</td>\n",
       "      <td>Pen</td>\n",
       "      <td>64.0</td>\n",
       "      <td>8.99</td>\n",
       "      <td>575.36</td>\n",
       "    </tr>\n",
       "    <tr>\n",
       "      <th>18</th>\n",
       "      <td>2019-11-08</td>\n",
       "      <td>East</td>\n",
       "      <td>Parent</td>\n",
       "      <td>Pen</td>\n",
       "      <td>15.0</td>\n",
       "      <td>19.99</td>\n",
       "      <td>299.85</td>\n",
       "    </tr>\n",
       "    <tr>\n",
       "      <th>19</th>\n",
       "      <td>2019-11-25</td>\n",
       "      <td>Central</td>\n",
       "      <td>Kivell</td>\n",
       "      <td>Pen Set</td>\n",
       "      <td>96.0</td>\n",
       "      <td>4.99</td>\n",
       "      <td>479.04</td>\n",
       "    </tr>\n",
       "    <tr>\n",
       "      <th>20</th>\n",
       "      <td>2019-12-12</td>\n",
       "      <td>Central</td>\n",
       "      <td>Smith</td>\n",
       "      <td>Pencil</td>\n",
       "      <td>67.0</td>\n",
       "      <td>1.29</td>\n",
       "      <td>86.43</td>\n",
       "    </tr>\n",
       "    <tr>\n",
       "      <th>21</th>\n",
       "      <td>2019-12-29</td>\n",
       "      <td>East</td>\n",
       "      <td>Parent</td>\n",
       "      <td>Pen Set</td>\n",
       "      <td>74.0</td>\n",
       "      <td>15.99</td>\n",
       "      <td>1183.26</td>\n",
       "    </tr>\n",
       "    <tr>\n",
       "      <th>22</th>\n",
       "      <td>2020-01-15</td>\n",
       "      <td>Central</td>\n",
       "      <td>Gill</td>\n",
       "      <td>Binder</td>\n",
       "      <td>46.0</td>\n",
       "      <td>8.99</td>\n",
       "      <td>413.54</td>\n",
       "    </tr>\n",
       "    <tr>\n",
       "      <th>23</th>\n",
       "      <td>2020-02-01</td>\n",
       "      <td>Central</td>\n",
       "      <td>Smith</td>\n",
       "      <td>Binder</td>\n",
       "      <td>87.0</td>\n",
       "      <td>15.00</td>\n",
       "      <td>1305.00</td>\n",
       "    </tr>\n",
       "    <tr>\n",
       "      <th>24</th>\n",
       "      <td>2020-02-18</td>\n",
       "      <td>East</td>\n",
       "      <td>Jones</td>\n",
       "      <td>Binder</td>\n",
       "      <td>4.0</td>\n",
       "      <td>4.99</td>\n",
       "      <td>19.96</td>\n",
       "    </tr>\n",
       "    <tr>\n",
       "      <th>25</th>\n",
       "      <td>2020-03-07</td>\n",
       "      <td>West</td>\n",
       "      <td>Sorvino</td>\n",
       "      <td>Binder</td>\n",
       "      <td>7.0</td>\n",
       "      <td>19.99</td>\n",
       "      <td>139.93</td>\n",
       "    </tr>\n",
       "    <tr>\n",
       "      <th>26</th>\n",
       "      <td>2020-03-24</td>\n",
       "      <td>Central</td>\n",
       "      <td>Jardine</td>\n",
       "      <td>Pen Set</td>\n",
       "      <td>50.0</td>\n",
       "      <td>4.99</td>\n",
       "      <td>249.50</td>\n",
       "    </tr>\n",
       "    <tr>\n",
       "      <th>27</th>\n",
       "      <td>2020-04-10</td>\n",
       "      <td>Central</td>\n",
       "      <td>Andrews</td>\n",
       "      <td>Pencil</td>\n",
       "      <td>66.0</td>\n",
       "      <td>1.99</td>\n",
       "      <td>131.34</td>\n",
       "    </tr>\n",
       "    <tr>\n",
       "      <th>28</th>\n",
       "      <td>2020-04-27</td>\n",
       "      <td>East</td>\n",
       "      <td>Howard</td>\n",
       "      <td>Pen</td>\n",
       "      <td>96.0</td>\n",
       "      <td>4.99</td>\n",
       "      <td>479.04</td>\n",
       "    </tr>\n",
       "    <tr>\n",
       "      <th>29</th>\n",
       "      <td>2020-05-14</td>\n",
       "      <td>Central</td>\n",
       "      <td>Gill</td>\n",
       "      <td>Pencil</td>\n",
       "      <td>53.0</td>\n",
       "      <td>1.29</td>\n",
       "      <td>68.37</td>\n",
       "    </tr>\n",
       "    <tr>\n",
       "      <th>30</th>\n",
       "      <td>2020-05-31</td>\n",
       "      <td>Central</td>\n",
       "      <td>Gill</td>\n",
       "      <td>Binder</td>\n",
       "      <td>80.0</td>\n",
       "      <td>8.99</td>\n",
       "      <td>719.20</td>\n",
       "    </tr>\n",
       "    <tr>\n",
       "      <th>31</th>\n",
       "      <td>2020-06-17</td>\n",
       "      <td>Central</td>\n",
       "      <td>Kivell</td>\n",
       "      <td>Desk</td>\n",
       "      <td>5.0</td>\n",
       "      <td>125.00</td>\n",
       "      <td>625.00</td>\n",
       "    </tr>\n",
       "    <tr>\n",
       "      <th>32</th>\n",
       "      <td>2020-07-04</td>\n",
       "      <td>East</td>\n",
       "      <td>Jones</td>\n",
       "      <td>Pen Set</td>\n",
       "      <td>62.0</td>\n",
       "      <td>4.99</td>\n",
       "      <td>309.38</td>\n",
       "    </tr>\n",
       "    <tr>\n",
       "      <th>33</th>\n",
       "      <td>2020-07-21</td>\n",
       "      <td>Central</td>\n",
       "      <td>Morgan</td>\n",
       "      <td>Pen Set</td>\n",
       "      <td>55.0</td>\n",
       "      <td>12.49</td>\n",
       "      <td>686.95</td>\n",
       "    </tr>\n",
       "    <tr>\n",
       "      <th>34</th>\n",
       "      <td>2020-08-07</td>\n",
       "      <td>Central</td>\n",
       "      <td>Kivell</td>\n",
       "      <td>Pen Set</td>\n",
       "      <td>42.0</td>\n",
       "      <td>23.95</td>\n",
       "      <td>1005.90</td>\n",
       "    </tr>\n",
       "    <tr>\n",
       "      <th>35</th>\n",
       "      <td>2020-08-24</td>\n",
       "      <td>West</td>\n",
       "      <td>Sorvino</td>\n",
       "      <td>Desk</td>\n",
       "      <td>3.0</td>\n",
       "      <td>275.00</td>\n",
       "      <td>825.00</td>\n",
       "    </tr>\n",
       "    <tr>\n",
       "      <th>36</th>\n",
       "      <td>2020-09-10</td>\n",
       "      <td>Central</td>\n",
       "      <td>Gill</td>\n",
       "      <td>Pencil</td>\n",
       "      <td>7.0</td>\n",
       "      <td>1.29</td>\n",
       "      <td>9.03</td>\n",
       "    </tr>\n",
       "    <tr>\n",
       "      <th>37</th>\n",
       "      <td>2020-09-27</td>\n",
       "      <td>West</td>\n",
       "      <td>Sorvino</td>\n",
       "      <td>Pen</td>\n",
       "      <td>76.0</td>\n",
       "      <td>1.99</td>\n",
       "      <td>151.24</td>\n",
       "    </tr>\n",
       "    <tr>\n",
       "      <th>38</th>\n",
       "      <td>2020-10-14</td>\n",
       "      <td>West</td>\n",
       "      <td>Thompson</td>\n",
       "      <td>Binder</td>\n",
       "      <td>57.0</td>\n",
       "      <td>19.99</td>\n",
       "      <td>1139.43</td>\n",
       "    </tr>\n",
       "    <tr>\n",
       "      <th>39</th>\n",
       "      <td>2020-10-31</td>\n",
       "      <td>Central</td>\n",
       "      <td>Andrews</td>\n",
       "      <td>Pencil</td>\n",
       "      <td>14.0</td>\n",
       "      <td>1.29</td>\n",
       "      <td>18.06</td>\n",
       "    </tr>\n",
       "    <tr>\n",
       "      <th>40</th>\n",
       "      <td>2020-11-17</td>\n",
       "      <td>Central</td>\n",
       "      <td>Jardine</td>\n",
       "      <td>Binder</td>\n",
       "      <td>11.0</td>\n",
       "      <td>4.99</td>\n",
       "      <td>54.89</td>\n",
       "    </tr>\n",
       "    <tr>\n",
       "      <th>41</th>\n",
       "      <td>2020-12-04</td>\n",
       "      <td>Central</td>\n",
       "      <td>Jardine</td>\n",
       "      <td>Binder</td>\n",
       "      <td>94.0</td>\n",
       "      <td>19.99</td>\n",
       "      <td>1879.06</td>\n",
       "    </tr>\n",
       "    <tr>\n",
       "      <th>42</th>\n",
       "      <td>2020-12-21</td>\n",
       "      <td>Central</td>\n",
       "      <td>Andrews</td>\n",
       "      <td>Binder</td>\n",
       "      <td>28.0</td>\n",
       "      <td>4.99</td>\n",
       "      <td>139.72</td>\n",
       "    </tr>\n",
       "  </tbody>\n",
       "</table>\n",
       "</div>"
      ],
      "text/plain": [
       "    OrderDate   Region       Rep     Item  Units  Unit Cost    Total\n",
       "0  2019-01-06     East     Jones   Pencil   95.0       1.99   189.05\n",
       "1  2019-01-23  Central    Kivell   Binder   50.0      19.99   999.50\n",
       "2  2019-02-09  Central   Jardine   Pencil   36.0       4.99   179.64\n",
       "3  2019-02-26  Central      Gill      Pen   27.0      19.99   539.73\n",
       "4  2019-03-15     West   Sorvino   Pencil   56.0       2.99   167.44\n",
       "5  2019-04-01     East     Jones   Binder   60.0       4.99   299.40\n",
       "6  2019-04-18  Central   Andrews   Pencil   75.0       1.99   149.25\n",
       "7  2019-05-05  Central   Jardine   Pencil   90.0       4.99   449.10\n",
       "8  2019-05-22     West  Thompson   Pencil   32.0       1.99    63.68\n",
       "9  2019-06-08     East     Jones   Binder   60.0       8.99   539.40\n",
       "10 2019-06-25  Central    Morgan   Pencil   90.0       4.99   449.10\n",
       "11 2019-07-12     East    Howard   Binder   29.0       1.99    57.71\n",
       "12 2019-07-29     East    Parent   Binder   81.0      19.99  1619.19\n",
       "13 2019-08-15     East     Jones   Pencil   35.0       4.99   174.65\n",
       "14 2019-09-01  Central     Smith     Desk    2.0     125.00   250.00\n",
       "15 2019-09-18     East     Jones  Pen Set   16.0      15.99   255.84\n",
       "16 2019-10-05  Central    Morgan   Binder   28.0       8.99   251.72\n",
       "17 2019-10-22     East     Jones      Pen   64.0       8.99   575.36\n",
       "18 2019-11-08     East    Parent      Pen   15.0      19.99   299.85\n",
       "19 2019-11-25  Central    Kivell  Pen Set   96.0       4.99   479.04\n",
       "20 2019-12-12  Central     Smith   Pencil   67.0       1.29    86.43\n",
       "21 2019-12-29     East    Parent  Pen Set   74.0      15.99  1183.26\n",
       "22 2020-01-15  Central      Gill   Binder   46.0       8.99   413.54\n",
       "23 2020-02-01  Central     Smith   Binder   87.0      15.00  1305.00\n",
       "24 2020-02-18     East     Jones   Binder    4.0       4.99    19.96\n",
       "25 2020-03-07     West   Sorvino   Binder    7.0      19.99   139.93\n",
       "26 2020-03-24  Central   Jardine  Pen Set   50.0       4.99   249.50\n",
       "27 2020-04-10  Central   Andrews   Pencil   66.0       1.99   131.34\n",
       "28 2020-04-27     East    Howard      Pen   96.0       4.99   479.04\n",
       "29 2020-05-14  Central      Gill   Pencil   53.0       1.29    68.37\n",
       "30 2020-05-31  Central      Gill   Binder   80.0       8.99   719.20\n",
       "31 2020-06-17  Central    Kivell     Desk    5.0     125.00   625.00\n",
       "32 2020-07-04     East     Jones  Pen Set   62.0       4.99   309.38\n",
       "33 2020-07-21  Central    Morgan  Pen Set   55.0      12.49   686.95\n",
       "34 2020-08-07  Central    Kivell  Pen Set   42.0      23.95  1005.90\n",
       "35 2020-08-24     West   Sorvino     Desk    3.0     275.00   825.00\n",
       "36 2020-09-10  Central      Gill   Pencil    7.0       1.29     9.03\n",
       "37 2020-09-27     West   Sorvino      Pen   76.0       1.99   151.24\n",
       "38 2020-10-14     West  Thompson   Binder   57.0      19.99  1139.43\n",
       "39 2020-10-31  Central   Andrews   Pencil   14.0       1.29    18.06\n",
       "40 2020-11-17  Central   Jardine   Binder   11.0       4.99    54.89\n",
       "41 2020-12-04  Central   Jardine   Binder   94.0      19.99  1879.06\n",
       "42 2020-12-21  Central   Andrews   Binder   28.0       4.99   139.72"
      ]
     },
     "execution_count": 25,
     "metadata": {},
     "output_type": "execute_result"
    }
   ],
   "source": [
    "data"
   ]
  },
  {
   "cell_type": "code",
   "execution_count": 27,
   "id": "dfc7310f",
   "metadata": {},
   "outputs": [
    {
     "name": "stdout",
     "output_type": "stream",
     "text": [
      "Item\n",
      "Pencil    2.774615\n",
      "Name: Unit Cost, dtype: float64\n"
     ]
    }
   ],
   "source": [
    "data2= data[data[\"Item\"]==\"Pencil\"]\n",
    "avg = data2.groupby(\"Item\")['Unit Cost'].mean()\n",
    "\n",
    "print(avg)"
   ]
  },
  {
   "cell_type": "code",
   "execution_count": 31,
   "id": "7a417b63",
   "metadata": {},
   "outputs": [
    {
     "data": {
      "text/html": [
       "<div>\n",
       "<style scoped>\n",
       "    .dataframe tbody tr th:only-of-type {\n",
       "        vertical-align: middle;\n",
       "    }\n",
       "\n",
       "    .dataframe tbody tr th {\n",
       "        vertical-align: top;\n",
       "    }\n",
       "\n",
       "    .dataframe thead th {\n",
       "        text-align: right;\n",
       "    }\n",
       "</style>\n",
       "<table border=\"1\" class=\"dataframe\">\n",
       "  <thead>\n",
       "    <tr style=\"text-align: right;\">\n",
       "      <th></th>\n",
       "      <th>OrderDate</th>\n",
       "      <th>Region</th>\n",
       "      <th>Rep</th>\n",
       "      <th>Item</th>\n",
       "      <th>Units</th>\n",
       "      <th>Unit Cost</th>\n",
       "      <th>Total</th>\n",
       "    </tr>\n",
       "  </thead>\n",
       "  <tbody>\n",
       "    <tr>\n",
       "      <th>0</th>\n",
       "      <td>2019-01-06</td>\n",
       "      <td>East</td>\n",
       "      <td>Jones</td>\n",
       "      <td>Pencil</td>\n",
       "      <td>95.0</td>\n",
       "      <td>1.99</td>\n",
       "      <td>189.05</td>\n",
       "    </tr>\n",
       "    <tr>\n",
       "      <th>1</th>\n",
       "      <td>2019-01-23</td>\n",
       "      <td>Central</td>\n",
       "      <td>Kivell</td>\n",
       "      <td>Binder</td>\n",
       "      <td>50.0</td>\n",
       "      <td>19.99</td>\n",
       "      <td>999.50</td>\n",
       "    </tr>\n",
       "    <tr>\n",
       "      <th>2</th>\n",
       "      <td>2019-02-09</td>\n",
       "      <td>Central</td>\n",
       "      <td>Jardine</td>\n",
       "      <td>Pencil</td>\n",
       "      <td>36.0</td>\n",
       "      <td>4.99</td>\n",
       "      <td>179.64</td>\n",
       "    </tr>\n",
       "    <tr>\n",
       "      <th>3</th>\n",
       "      <td>2019-02-26</td>\n",
       "      <td>Central</td>\n",
       "      <td>Gill</td>\n",
       "      <td>Pen</td>\n",
       "      <td>27.0</td>\n",
       "      <td>19.99</td>\n",
       "      <td>539.73</td>\n",
       "    </tr>\n",
       "    <tr>\n",
       "      <th>4</th>\n",
       "      <td>2019-03-15</td>\n",
       "      <td>West</td>\n",
       "      <td>Sorvino</td>\n",
       "      <td>Pencil</td>\n",
       "      <td>56.0</td>\n",
       "      <td>2.99</td>\n",
       "      <td>167.44</td>\n",
       "    </tr>\n",
       "  </tbody>\n",
       "</table>\n",
       "</div>"
      ],
      "text/plain": [
       "   OrderDate   Region      Rep    Item  Units  Unit Cost   Total\n",
       "0 2019-01-06     East    Jones  Pencil   95.0       1.99  189.05\n",
       "1 2019-01-23  Central   Kivell  Binder   50.0      19.99  999.50\n",
       "2 2019-02-09  Central  Jardine  Pencil   36.0       4.99  179.64\n",
       "3 2019-02-26  Central     Gill     Pen   27.0      19.99  539.73\n",
       "4 2019-03-15     West  Sorvino  Pencil   56.0       2.99  167.44"
      ]
     },
     "execution_count": 31,
     "metadata": {},
     "output_type": "execute_result"
    }
   ],
   "source": [
    "data.head()"
   ]
  },
  {
   "cell_type": "code",
   "execution_count": 32,
   "id": "f361708c",
   "metadata": {},
   "outputs": [
    {
     "name": "stdout",
     "output_type": "stream",
     "text": [
      "Item\n",
      "Binder     8\n",
      "Desk       2\n",
      "Pen        1\n",
      "Pen Set    4\n",
      "Pencil     9\n",
      "Name: Units, dtype: int64\n"
     ]
    }
   ],
   "source": [
    "# 6. What is total number of unit sold for each item in Central Region\n",
    "data3= data[data['Region']==\"Central\"]\n",
    "count = data3.groupby(\"Item\")[\"Units\"].count()\n",
    "\n",
    "print(count)\n",
    "\n"
   ]
  },
  {
   "cell_type": "code",
   "execution_count": 34,
   "id": "689ad327",
   "metadata": {},
   "outputs": [
    {
     "name": "stdout",
     "output_type": "stream",
     "text": [
      "Item\n",
      "Pencil    130.0\n",
      "Name: Units, dtype: float64\n"
     ]
    }
   ],
   "source": [
    "# 7. What is the total number of pen sold in east region\n",
    "data4= data[ (data['Region']==\"East\" ) & (data['Item']==\"Pencil\" )]\n",
    "count = data4.groupby(\"Item\")[\"Units\"].sum()\n",
    "\n",
    "print(count)\n",
    "\n"
   ]
  },
  {
   "cell_type": "code",
   "execution_count": 35,
   "id": "d9807ea0",
   "metadata": {},
   "outputs": [
    {
     "data": {
      "text/html": [
       "<div>\n",
       "<style scoped>\n",
       "    .dataframe tbody tr th:only-of-type {\n",
       "        vertical-align: middle;\n",
       "    }\n",
       "\n",
       "    .dataframe tbody tr th {\n",
       "        vertical-align: top;\n",
       "    }\n",
       "\n",
       "    .dataframe thead th {\n",
       "        text-align: right;\n",
       "    }\n",
       "</style>\n",
       "<table border=\"1\" class=\"dataframe\">\n",
       "  <thead>\n",
       "    <tr style=\"text-align: right;\">\n",
       "      <th></th>\n",
       "      <th>OrderDate</th>\n",
       "      <th>Region</th>\n",
       "      <th>Rep</th>\n",
       "      <th>Item</th>\n",
       "      <th>Units</th>\n",
       "      <th>Unit Cost</th>\n",
       "      <th>Total</th>\n",
       "    </tr>\n",
       "  </thead>\n",
       "  <tbody>\n",
       "    <tr>\n",
       "      <th>0</th>\n",
       "      <td>2019-01-06</td>\n",
       "      <td>East</td>\n",
       "      <td>Jones</td>\n",
       "      <td>Pencil</td>\n",
       "      <td>95.0</td>\n",
       "      <td>1.99</td>\n",
       "      <td>189.05</td>\n",
       "    </tr>\n",
       "    <tr>\n",
       "      <th>1</th>\n",
       "      <td>2019-01-23</td>\n",
       "      <td>Central</td>\n",
       "      <td>Kivell</td>\n",
       "      <td>Binder</td>\n",
       "      <td>50.0</td>\n",
       "      <td>19.99</td>\n",
       "      <td>999.50</td>\n",
       "    </tr>\n",
       "    <tr>\n",
       "      <th>2</th>\n",
       "      <td>2019-02-09</td>\n",
       "      <td>Central</td>\n",
       "      <td>Jardine</td>\n",
       "      <td>Pencil</td>\n",
       "      <td>36.0</td>\n",
       "      <td>4.99</td>\n",
       "      <td>179.64</td>\n",
       "    </tr>\n",
       "    <tr>\n",
       "      <th>3</th>\n",
       "      <td>2019-02-26</td>\n",
       "      <td>Central</td>\n",
       "      <td>Gill</td>\n",
       "      <td>Pen</td>\n",
       "      <td>27.0</td>\n",
       "      <td>19.99</td>\n",
       "      <td>539.73</td>\n",
       "    </tr>\n",
       "    <tr>\n",
       "      <th>4</th>\n",
       "      <td>2019-03-15</td>\n",
       "      <td>West</td>\n",
       "      <td>Sorvino</td>\n",
       "      <td>Pencil</td>\n",
       "      <td>56.0</td>\n",
       "      <td>2.99</td>\n",
       "      <td>167.44</td>\n",
       "    </tr>\n",
       "  </tbody>\n",
       "</table>\n",
       "</div>"
      ],
      "text/plain": [
       "   OrderDate   Region      Rep    Item  Units  Unit Cost   Total\n",
       "0 2019-01-06     East    Jones  Pencil   95.0       1.99  189.05\n",
       "1 2019-01-23  Central   Kivell  Binder   50.0      19.99  999.50\n",
       "2 2019-02-09  Central  Jardine  Pencil   36.0       4.99  179.64\n",
       "3 2019-02-26  Central     Gill     Pen   27.0      19.99  539.73\n",
       "4 2019-03-15     West  Sorvino  Pencil   56.0       2.99  167.44"
      ]
     },
     "execution_count": 35,
     "metadata": {},
     "output_type": "execute_result"
    }
   ],
   "source": [
    "data.head()"
   ]
  },
  {
   "cell_type": "code",
   "execution_count": 37,
   "id": "d8f8082c",
   "metadata": {},
   "outputs": [
    {
     "name": "stdout",
     "output_type": "stream",
     "text": [
      "    OrderDate Region    Rep    Item  Units  Unit Cost   Total\n",
      "0  2019-01-06   East  Jones  Pencil   95.0       1.99  189.05\n",
      "13 2019-08-15   East  Jones  Pencil   35.0       4.99  174.65\n",
      "Item\n",
      "Pencil    130.0\n",
      "Name: Units, dtype: float64\n"
     ]
    }
   ],
   "source": [
    "# 8. How many pencil were sold by the representative Jones\n",
    "data4= data[ (data['Rep']==\"Jones\" ) & (data['Item']==\"Pencil\" )]\n",
    "print(data4)\n",
    "count = data4.groupby(\"Item\")[\"Units\"].sum()\n",
    "\n",
    "print(count)\n",
    "\n"
   ]
  },
  {
   "cell_type": "code",
   "execution_count": 44,
   "id": "55f6b4e1",
   "metadata": {},
   "outputs": [],
   "source": [
    "# *Missing Values:*\n",
    "\n",
    "# 9. Are there any missing values in the dataset? If yes, which columns have missing values, and how many missing values are there in each?\n",
    "data.isnull().sum()\n",
    "# 10. Delete the rows containing missing values.\n",
    "data.dropna(inplace=True)\n"
   ]
  },
  {
   "cell_type": "code",
   "execution_count": 45,
   "id": "7cf9ab5d",
   "metadata": {},
   "outputs": [
    {
     "data": {
      "text/plain": [
       "Index(['OrderDate', 'Region', 'Rep', 'Item', 'Units', 'Unit Cost', 'Total'], dtype='object')"
      ]
     },
     "execution_count": 45,
     "metadata": {},
     "output_type": "execute_result"
    }
   ],
   "source": [
    "data.columns"
   ]
  },
  {
   "cell_type": "code",
   "execution_count": 49,
   "id": "5f3d5196",
   "metadata": {},
   "outputs": [
    {
     "data": {
      "text/plain": [
       "<AxesSubplot: xlabel='OrderDate'>"
      ]
     },
     "execution_count": 49,
     "metadata": {},
     "output_type": "execute_result"
    },
    {
     "data": {
      "image/png": "[encoded data removed]",
      "text/plain": [
       "<Figure size 640x480 with 1 Axes>"
      ]
     },
     "metadata": {},
     "output_type": "display_data"
    }
   ],
   "source": [
    "# *Data Visualization:*\n",
    "\n",
    "# 11. Create a line chart that illustrates the trend of total column over the recorded dates\n",
    "total = data.groupby(data.index)[\"Total\"]\n",
    "data.plot(kind=\"line\", x=\"OrderDate\", y = \"Total\")\n",
    "\n"
   ]
  },
  {
   "cell_type": "code",
   "execution_count": 69,
   "id": "d0166e81",
   "metadata": {},
   "outputs": [
    {
     "name": "stdout",
     "output_type": "stream",
     "text": [
      "Item\n",
      "Desk        10.0\n",
      "Pen        278.0\n",
      "Pen Set    395.0\n",
      "Pencil     716.0\n",
      "Binder     722.0\n",
      "Name: Units, dtype: float64\n"
     ]
    },
    {
     "data": {
      "text/plain": [
       "<AxesSubplot: xlabel='Item'>"
      ]
     },
     "execution_count": 69,
     "metadata": {},
     "output_type": "execute_result"
    },
    {
     "data": {
      "image/png": "[encoded data removed]",
      "text/plain": [
       "<Figure size 640x480 with 1 Axes>"
      ]
     },
     "metadata": {},
     "output_type": "display_data"
    }
   ],
   "source": [
    "# 12. Create a barchart that shows total unit sold for each item\n",
    "count = data.groupby(\"Item\")[\"Units\"].sum().sort_values(ascending=True)\n",
    "print(count)\n",
    "# count.plot(kind=\"bar\", x= \"Item\", y = \"Total\")\n",
    "\n",
    "count.plot(kind=\"bar\")\n",
    "\n"
   ]
  },
  {
   "cell_type": "code",
   "execution_count": 68,
   "id": "50f76385",
   "metadata": {},
   "outputs": [
    {
     "name": "stdout",
     "output_type": "stream",
     "text": [
      "Item\n",
      "Binder     234.0\n",
      "Pen        175.0\n",
      "Pen Set    152.0\n",
      "Pencil     130.0\n",
      "Name: Units, dtype: float64\n",
      "Item\n",
      "Binder     234.0\n",
      "Pen        175.0\n",
      "Pen Set    152.0\n",
      "Name: Units, dtype: float64\n"
     ]
    },
    {
     "data": {
      "text/plain": [
       "<AxesSubplot: xlabel='Item'>"
      ]
     },
     "execution_count": 68,
     "metadata": {},
     "output_type": "execute_result"
    },
    {
     "data": {
      "image/png": "[encoded data removed]",
      "text/plain": [
       "<Figure size 640x480 with 1 Axes>"
      ]
     },
     "metadata": {},
     "output_type": "display_data"
    }
   ],
   "source": [
    "# 13. Display top 3 items with most unit sold in East Region using a bar chart. \n",
    "data8= data[ (data['Region']==\"East\" )]\n",
    "count = data8.groupby(\"Item\")[\"Units\"].sum().sort_values(ascending=False)\n",
    "\n",
    "print(count)\n",
    "\n",
    "upd_count = count.head(3)\n",
    "print(upd_count)\n",
    "\n",
    "\n",
    "# upd_count.plot(kind=\"bar\", x= \"Item\", y = \"Units\")\n",
    "upd_count.plot(kind=\"bar\")\n",
    "\n"
   ]
  },
  {
   "cell_type": "code",
   "execution_count": 67,
   "id": "77817bca",
   "metadata": {},
   "outputs": [
    {
     "name": "stdout",
     "output_type": "stream",
     "text": [
      "Item\n",
      "Binder     722.0\n",
      "Pencil     716.0\n",
      "Pen Set    395.0\n",
      "Pen        278.0\n",
      "Desk        10.0\n",
      "Name: Units, dtype: float64\n",
      "Item\n",
      "Desk    10.0\n",
      "Name: Units, dtype: float64\n"
     ]
    },
    {
     "data": {
      "text/plain": [
       "<AxesSubplot: xlabel='Item'>"
      ]
     },
     "execution_count": 67,
     "metadata": {},
     "output_type": "execute_result"
    },
    {
     "data": {
      "image/png": "[encoded data removed]",
      "text/plain": [
       "<Figure size 640x480 with 1 Axes>"
      ]
     },
     "metadata": {},
     "output_type": "display_data"
    }
   ],
   "source": [
    "# 14. Plot item and total number of unit sold where unit sold is less than 200.\n",
    "data9 = data.groupby(\"Item\")[\"Units\"].sum().sort_values(ascending=False)\n",
    "print(data9)\n",
    "data9 = data9[data9<200]\n",
    "\n",
    "print(data9)\n",
    "\n",
    "data9.plot(kind=\"bar\")\n",
    "\n"
   ]
  },
  {
   "cell_type": "code",
   "execution_count": 66,
   "id": "06875660",
   "metadata": {},
   "outputs": [
    {
     "name": "stdout",
     "output_type": "stream",
     "text": [
      "            min     max\n",
      "Item                   \n",
      "Binder     1.99   19.99\n",
      "Desk     125.00  275.00\n",
      "Pen        1.99   19.99\n",
      "Pen Set    4.99   23.95\n",
      "Pencil     1.29    4.99\n"
     ]
    },
    {
     "data": {
      "text/plain": [
       "<AxesSubplot: xlabel='Item'>"
      ]
     },
     "execution_count": 66,
     "metadata": {},
     "output_type": "execute_result"
    },
    {
     "data": {
      "image/png": "[encoded data removed]",
      "text/plain": [
       "<Figure size 640x480 with 1 Axes>"
      ]
     },
     "metadata": {},
     "output_type": "display_data"
    }
   ],
   "source": [
    "# 15. Plot the min and max unit_cost of each item in Central Region. (Hint: you can use agg function to apply multple types of aggegration \n",
    "# e.g. min_max_unit_cost = central_df.groupby('Item')['Unit Cost'].agg(['min', 'max']))\n",
    "\n",
    "min_max_unit_cost = data.groupby('Item')['Unit Cost'].agg(['min', 'max'])\n",
    "\n",
    "print(min_max_unit_cost)\n",
    "\n",
    "min_max_unit_cost.plot(kind=\"bar\")"
   ]
  }
 ],
 "metadata": {
  "kernelspec": {
   "display_name": "Python 3 (ipykernel)",
   "language": "python",
   "name": "python3"
  },
  "language_info": {
   "codemirror_mode": {
    "name": "ipython",
    "version": 3
   },
   "file_extension": ".py",
   "mimetype": "text/x-python",
   "name": "python",
   "nbconvert_exporter": "python",
   "pygments_lexer": "ipython3",
   "version": "3.10.0"
  }
 },
 "nbformat": 4,
 "nbformat_minor": 5
}
