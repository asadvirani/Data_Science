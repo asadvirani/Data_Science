{
  "cells": [
    {
      "cell_type": "markdown",
      "id": "bd1c3cd3",
      "metadata": {
        "id": "bd1c3cd3"
      },
      "source": [
        "# Welcome To The Practice Notebook\n",
        "---"
      ]
    },
    {
      "cell_type": "markdown",
      "id": "26b59aa6",
      "metadata": {
        "id": "26b59aa6"
      },
      "source": [
        "Importing the pandas library"
      ]
    },
    {
      "cell_type": "code",
      "execution_count": 1,
      "id": "9961c391",
      "metadata": {
        "id": "9961c391"
      },
      "outputs": [],
      "source": [
        "import pandas as pd"
      ]
    },
    {
      "cell_type": "markdown",
      "id": "2548a6df",
      "metadata": {
        "id": "2548a6df"
      },
      "source": [
        "Import the json Imdb Dataset"
      ]
    },
    {
      "cell_type": "code",
      "execution_count": 30,
      "id": "7ee32f66",
      "metadata": {
        "id": "7ee32f66"
      },
      "outputs": [],
      "source": [
        "data = pd.read_json(\"movies_dataset.json\")"
      ]
    },
    {
      "cell_type": "code",
      "execution_count": 11,
      "id": "ad0410a8",
      "metadata": {},
      "outputs": [
        {
          "data": {
            "text/html": [
              "<div>\n",
              "<style scoped>\n",
              "    .dataframe tbody tr th:only-of-type {\n",
              "        vertical-align: middle;\n",
              "    }\n",
              "\n",
              "    .dataframe tbody tr th {\n",
              "        vertical-align: top;\n",
              "    }\n",
              "\n",
              "    .dataframe thead th {\n",
              "        text-align: right;\n",
              "    }\n",
              "</style>\n",
              "<table border=\"1\" class=\"dataframe\">\n",
              "  <thead>\n",
              "    <tr style=\"text-align: right;\">\n",
              "      <th></th>\n",
              "      <th>color</th>\n",
              "      <th>director_name</th>\n",
              "      <th>num_critic_for_reviews</th>\n",
              "      <th>duration</th>\n",
              "      <th>gross</th>\n",
              "      <th>genres</th>\n",
              "      <th>star_name</th>\n",
              "      <th>movie_title</th>\n",
              "      <th>movie_imdb_link</th>\n",
              "      <th>language</th>\n",
              "      <th>country</th>\n",
              "      <th>budget</th>\n",
              "      <th>title_year</th>\n",
              "      <th>imdb_score</th>\n",
              "    </tr>\n",
              "  </thead>\n",
              "  <tbody>\n",
              "    <tr>\n",
              "      <th>0</th>\n",
              "      <td>Color</td>\n",
              "      <td>James Cameron</td>\n",
              "      <td>723.0</td>\n",
              "      <td>178.0</td>\n",
              "      <td>760505847.0</td>\n",
              "      <td>Action|Adventure|Fantasy|Sci-Fi</td>\n",
              "      <td>CCH Pounder</td>\n",
              "      <td>Avatar</td>\n",
              "      <td>http://www.imdb.com/title/tt0499549/?ref_=fn_t...</td>\n",
              "      <td>English</td>\n",
              "      <td>USA</td>\n",
              "      <td>237000000.0</td>\n",
              "      <td>2009.0</td>\n",
              "      <td>7.9</td>\n",
              "    </tr>\n",
              "    <tr>\n",
              "      <th>1</th>\n",
              "      <td>Color</td>\n",
              "      <td>Gore Verbinski</td>\n",
              "      <td>302.0</td>\n",
              "      <td>169.0</td>\n",
              "      <td>309404152.0</td>\n",
              "      <td>Action|Adventure|Fantasy</td>\n",
              "      <td>Johnny Depp</td>\n",
              "      <td>Pirates of the Caribbean: At World's End</td>\n",
              "      <td>http://www.imdb.com/title/tt0449088/?ref_=fn_t...</td>\n",
              "      <td>English</td>\n",
              "      <td>USA</td>\n",
              "      <td>300000000.0</td>\n",
              "      <td>2007.0</td>\n",
              "      <td>7.1</td>\n",
              "    </tr>\n",
              "    <tr>\n",
              "      <th>2</th>\n",
              "      <td>Color</td>\n",
              "      <td>Sam Mendes</td>\n",
              "      <td>602.0</td>\n",
              "      <td>148.0</td>\n",
              "      <td>200074175.0</td>\n",
              "      <td>Action|Adventure|Thriller</td>\n",
              "      <td>Christoph Waltz</td>\n",
              "      <td>Spectre</td>\n",
              "      <td>http://www.imdb.com/title/tt2379713/?ref_=fn_t...</td>\n",
              "      <td>English</td>\n",
              "      <td>UK</td>\n",
              "      <td>245000000.0</td>\n",
              "      <td>2015.0</td>\n",
              "      <td>6.8</td>\n",
              "    </tr>\n",
              "    <tr>\n",
              "      <th>3</th>\n",
              "      <td>Color</td>\n",
              "      <td>Christopher Nolan</td>\n",
              "      <td>813.0</td>\n",
              "      <td>164.0</td>\n",
              "      <td>448130642.0</td>\n",
              "      <td>Action|Thriller</td>\n",
              "      <td>Tom Hardy</td>\n",
              "      <td>The Dark Knight Rises</td>\n",
              "      <td>http://www.imdb.com/title/tt1345836/?ref_=fn_t...</td>\n",
              "      <td>English</td>\n",
              "      <td>USA</td>\n",
              "      <td>250000000.0</td>\n",
              "      <td>2012.0</td>\n",
              "      <td>8.5</td>\n",
              "    </tr>\n",
              "    <tr>\n",
              "      <th>4</th>\n",
              "      <td>NaN</td>\n",
              "      <td>Doug Walker</td>\n",
              "      <td>NaN</td>\n",
              "      <td>NaN</td>\n",
              "      <td>NaN</td>\n",
              "      <td>Documentary</td>\n",
              "      <td>Doug Walker</td>\n",
              "      <td>Star Wars: Episode VII - The Force Awakens</td>\n",
              "      <td>http://www.imdb.com/title/tt5289954/?ref_=fn_t...</td>\n",
              "      <td>NaN</td>\n",
              "      <td>NaN</td>\n",
              "      <td>NaN</td>\n",
              "      <td>NaN</td>\n",
              "      <td>7.1</td>\n",
              "    </tr>\n",
              "    <tr>\n",
              "      <th>...</th>\n",
              "      <td>...</td>\n",
              "      <td>...</td>\n",
              "      <td>...</td>\n",
              "      <td>...</td>\n",
              "      <td>...</td>\n",
              "      <td>...</td>\n",
              "      <td>...</td>\n",
              "      <td>...</td>\n",
              "      <td>...</td>\n",
              "      <td>...</td>\n",
              "      <td>...</td>\n",
              "      <td>...</td>\n",
              "      <td>...</td>\n",
              "      <td>...</td>\n",
              "    </tr>\n",
              "    <tr>\n",
              "      <th>5038</th>\n",
              "      <td>Color</td>\n",
              "      <td>Scott Smith</td>\n",
              "      <td>1.0</td>\n",
              "      <td>87.0</td>\n",
              "      <td>NaN</td>\n",
              "      <td>Comedy|Drama</td>\n",
              "      <td>Eric Mabius</td>\n",
              "      <td>Signed Sealed Delivered</td>\n",
              "      <td>http://www.imdb.com/title/tt3000844/?ref_=fn_t...</td>\n",
              "      <td>English</td>\n",
              "      <td>Canada</td>\n",
              "      <td>NaN</td>\n",
              "      <td>2013.0</td>\n",
              "      <td>7.7</td>\n",
              "    </tr>\n",
              "    <tr>\n",
              "      <th>5039</th>\n",
              "      <td>Color</td>\n",
              "      <td>NaN</td>\n",
              "      <td>43.0</td>\n",
              "      <td>43.0</td>\n",
              "      <td>NaN</td>\n",
              "      <td>Crime|Drama|Mystery|Thriller</td>\n",
              "      <td>Natalie Zea</td>\n",
              "      <td>The Following</td>\n",
              "      <td>http://www.imdb.com/title/tt2071645/?ref_=fn_t...</td>\n",
              "      <td>English</td>\n",
              "      <td>USA</td>\n",
              "      <td>NaN</td>\n",
              "      <td>NaN</td>\n",
              "      <td>7.5</td>\n",
              "    </tr>\n",
              "    <tr>\n",
              "      <th>5040</th>\n",
              "      <td>Color</td>\n",
              "      <td>Benjamin Roberds</td>\n",
              "      <td>13.0</td>\n",
              "      <td>76.0</td>\n",
              "      <td>NaN</td>\n",
              "      <td>Drama|Horror|Thriller</td>\n",
              "      <td>Eva Boehnke</td>\n",
              "      <td>A Plague So Pleasant</td>\n",
              "      <td>http://www.imdb.com/title/tt2107644/?ref_=fn_t...</td>\n",
              "      <td>English</td>\n",
              "      <td>USA</td>\n",
              "      <td>1400.0</td>\n",
              "      <td>2013.0</td>\n",
              "      <td>6.3</td>\n",
              "    </tr>\n",
              "    <tr>\n",
              "      <th>5041</th>\n",
              "      <td>Color</td>\n",
              "      <td>Daniel Hsia</td>\n",
              "      <td>14.0</td>\n",
              "      <td>100.0</td>\n",
              "      <td>10443.0</td>\n",
              "      <td>Comedy|Drama|Romance</td>\n",
              "      <td>Alan Ruck</td>\n",
              "      <td>Shanghai Calling</td>\n",
              "      <td>http://www.imdb.com/title/tt2070597/?ref_=fn_t...</td>\n",
              "      <td>English</td>\n",
              "      <td>USA</td>\n",
              "      <td>NaN</td>\n",
              "      <td>2012.0</td>\n",
              "      <td>6.3</td>\n",
              "    </tr>\n",
              "    <tr>\n",
              "      <th>5042</th>\n",
              "      <td>Color</td>\n",
              "      <td>Jon Gunn</td>\n",
              "      <td>43.0</td>\n",
              "      <td>90.0</td>\n",
              "      <td>85222.0</td>\n",
              "      <td>Documentary</td>\n",
              "      <td>John August</td>\n",
              "      <td>My Date with Drew</td>\n",
              "      <td>http://www.imdb.com/title/tt0378407/?ref_=fn_t...</td>\n",
              "      <td>English</td>\n",
              "      <td>USA</td>\n",
              "      <td>1100.0</td>\n",
              "      <td>2004.0</td>\n",
              "      <td>6.6</td>\n",
              "    </tr>\n",
              "  </tbody>\n",
              "</table>\n",
              "<p>5043 rows × 14 columns</p>\n",
              "</div>"
            ],
            "text/plain": [
              "      color      director_name  num_critic_for_reviews  duration        gross  \\\n",
              "0     Color      James Cameron                   723.0     178.0  760505847.0   \n",
              "1     Color     Gore Verbinski                   302.0     169.0  309404152.0   \n",
              "2     Color         Sam Mendes                   602.0     148.0  200074175.0   \n",
              "3     Color  Christopher Nolan                   813.0     164.0  448130642.0   \n",
              "4       NaN        Doug Walker                     NaN       NaN          NaN   \n",
              "...     ...                ...                     ...       ...          ...   \n",
              "5038  Color        Scott Smith                     1.0      87.0          NaN   \n",
              "5039  Color                NaN                    43.0      43.0          NaN   \n",
              "5040  Color   Benjamin Roberds                    13.0      76.0          NaN   \n",
              "5041  Color        Daniel Hsia                    14.0     100.0      10443.0   \n",
              "5042  Color           Jon Gunn                    43.0      90.0      85222.0   \n",
              "\n",
              "                               genres        star_name  \\\n",
              "0     Action|Adventure|Fantasy|Sci-Fi      CCH Pounder   \n",
              "1            Action|Adventure|Fantasy      Johnny Depp   \n",
              "2           Action|Adventure|Thriller  Christoph Waltz   \n",
              "3                     Action|Thriller        Tom Hardy   \n",
              "4                         Documentary      Doug Walker   \n",
              "...                               ...              ...   \n",
              "5038                     Comedy|Drama      Eric Mabius   \n",
              "5039     Crime|Drama|Mystery|Thriller      Natalie Zea   \n",
              "5040            Drama|Horror|Thriller      Eva Boehnke   \n",
              "5041             Comedy|Drama|Romance        Alan Ruck   \n",
              "5042                      Documentary      John August   \n",
              "\n",
              "                                     movie_title  \\\n",
              "0                                         Avatar   \n",
              "1       Pirates of the Caribbean: At World's End   \n",
              "2                                        Spectre   \n",
              "3                          The Dark Knight Rises   \n",
              "4     Star Wars: Episode VII - The Force Awakens   \n",
              "...                                          ...   \n",
              "5038                     Signed Sealed Delivered   \n",
              "5039                               The Following   \n",
              "5040                        A Plague So Pleasant   \n",
              "5041                            Shanghai Calling   \n",
              "5042                           My Date with Drew   \n",
              "\n",
              "                                        movie_imdb_link language country  \\\n",
              "0     http://www.imdb.com/title/tt0499549/?ref_=fn_t...  English     USA   \n",
              "1     http://www.imdb.com/title/tt0449088/?ref_=fn_t...  English     USA   \n",
              "2     http://www.imdb.com/title/tt2379713/?ref_=fn_t...  English      UK   \n",
              "3     http://www.imdb.com/title/tt1345836/?ref_=fn_t...  English     USA   \n",
              "4     http://www.imdb.com/title/tt5289954/?ref_=fn_t...      NaN     NaN   \n",
              "...                                                 ...      ...     ...   \n",
              "5038  http://www.imdb.com/title/tt3000844/?ref_=fn_t...  English  Canada   \n",
              "5039  http://www.imdb.com/title/tt2071645/?ref_=fn_t...  English     USA   \n",
              "5040  http://www.imdb.com/title/tt2107644/?ref_=fn_t...  English     USA   \n",
              "5041  http://www.imdb.com/title/tt2070597/?ref_=fn_t...  English     USA   \n",
              "5042  http://www.imdb.com/title/tt0378407/?ref_=fn_t...  English     USA   \n",
              "\n",
              "           budget  title_year  imdb_score  \n",
              "0     237000000.0      2009.0         7.9  \n",
              "1     300000000.0      2007.0         7.1  \n",
              "2     245000000.0      2015.0         6.8  \n",
              "3     250000000.0      2012.0         8.5  \n",
              "4             NaN         NaN         7.1  \n",
              "...           ...         ...         ...  \n",
              "5038          NaN      2013.0         7.7  \n",
              "5039          NaN         NaN         7.5  \n",
              "5040       1400.0      2013.0         6.3  \n",
              "5041          NaN      2012.0         6.3  \n",
              "5042       1100.0      2004.0         6.6  \n",
              "\n",
              "[5043 rows x 14 columns]"
            ]
          },
          "execution_count": 11,
          "metadata": {},
          "output_type": "execute_result"
        }
      ],
      "source": [
        "data"
      ]
    },
    {
      "cell_type": "markdown",
      "id": "9b72abfd",
      "metadata": {
        "id": "9b72abfd"
      },
      "source": [
        "Answer to the following Analytical questions:\n",
        "\n",
        "Question 1: Which country has gained the highest average IMdb Score according to our data? <br>\n",
        "Use a bar chart to visualize your results"
      ]
    },
    {
      "cell_type": "code",
      "execution_count": 33,
      "id": "ad4c6911",
      "metadata": {
        "colab": {
          "base_uri": "https://localhost:8080/",
          "height": 725
        },
        "id": "ad4c6911",
        "outputId": "2ae9c966-4e36-4148-c968-39f1219095a1"
      },
      "outputs": [
        {
          "name": "stdout",
          "output_type": "stream",
          "text": [
            "country\n",
            "Kyrgyzstan              8.700000\n",
            "Libya                   8.400000\n",
            "United Arab Emirates    8.200000\n",
            "Egypt                   8.100000\n",
            "Soviet Union            8.100000\n",
            "Iran                    7.725000\n",
            "Poland                  7.620000\n",
            "Indonesia               7.600000\n",
            "Israel                  7.525000\n",
            "Sweden                  7.516667\n",
            "Name: imdb_score, dtype: float64\n"
          ]
        },
        {
          "data": {
            "text/plain": [
              "<AxesSubplot: xlabel='country'>"
            ]
          },
          "execution_count": 33,
          "metadata": {},
          "output_type": "execute_result"
        },
        {
          "data": {
            "image/png": "[encoded data removed]",
            "text/plain": [
              "<Figure size 640x480 with 1 Axes>"
            ]
          },
          "metadata": {},
          "output_type": "display_data"
        }
      ],
      "source": [
        "data1 = data.groupby('country')['imdb_score'].mean().sort_values(ascending=False)\n",
        "data1= data1.head(10)\n",
        "print(data1)\n",
        "data1.plot(kind='bar',x='country',y='imdb_score')"
      ]
    },
    {
      "cell_type": "markdown",
      "id": "29856d8e",
      "metadata": {
        "id": "29856d8e"
      },
      "source": [
        "Question 2: How many `colored` and `Black&White` movies do we have in our dataset?"
      ]
    },
    {
      "cell_type": "code",
      "execution_count": 23,
      "id": "68650dd4",
      "metadata": {},
      "outputs": [
        {
          "name": "stdout",
          "output_type": "stream",
          "text": [
            "(4815, 14)\n",
            "color\n",
            "Color    4815\n",
            "Name: color, dtype: int64\n",
            "(209, 14)\n",
            "color\n",
            "Black and White    209\n",
            "Name: color, dtype: int64\n"
          ]
        }
      ],
      "source": [
        "data2= data[data['color']=='Color']\n",
        "x= data2.groupby('color')['color'].count()\n",
        "print(data2.shape)\n",
        "print(x)\n",
        "\n",
        "data22= data[data['color']=='Black and White']\n",
        "y= data22.groupby('color')['color'].count()\n",
        "print(data22.shape)\n",
        "print(y)\n",
        "\n"
      ]
    },
    {
      "cell_type": "markdown",
      "id": "874f8fbb",
      "metadata": {
        "id": "874f8fbb"
      },
      "source": [
        "Question 3: Which movies of `Christopher Nolan` has the highest IMdb Score? <br>\n",
        "Use a barchart to visualize the results"
      ]
    },
    {
      "cell_type": "code",
      "execution_count": 35,
      "id": "785210ec",
      "metadata": {
        "colab": {
          "base_uri": "https://localhost:8080/",
          "height": 578
        },
        "id": "785210ec",
        "outputId": "8c84b2dd-bacc-46cc-8202-70dc1034c095"
      },
      "outputs": [
        {
          "name": "stdout",
          "output_type": "stream",
          "text": [
            "(8, 14)\n",
            "movie_title\n",
            "Insomnia                 7.2\n",
            "Batman Begins            8.3\n",
            "Memento                  8.5\n",
            "The Dark Knight Rises    8.5\n",
            "The Prestige             8.5\n",
            "Interstellar             8.6\n",
            "Inception                8.8\n",
            "The Dark Knight          9.0\n",
            "Name: imdb_score, dtype: float64\n"
          ]
        },
        {
          "data": {
            "text/plain": [
              "<AxesSubplot: xlabel='movie_title'>"
            ]
          },
          "execution_count": 35,
          "metadata": {},
          "output_type": "execute_result"
        },
        {
          "data": {
            "image/png": "[encoded data removed]",
            "text/plain": [
              "<Figure size 640x480 with 1 Axes>"
            ]
          },
          "metadata": {},
          "output_type": "display_data"
        }
      ],
      "source": [
        "data3=data[data.director_name == 'Christopher Nolan']\n",
        "# print(data3.shape)\n",
        "data3 = data3.groupby('movie_title')['imdb_score'].sum().sort_values(ascending=True)\n",
        "print(data3)\n",
        "data3.plot(kind = 'bar', x='movie_title', y='imdb_score')"
      ]
    },
    {
      "cell_type": "markdown",
      "id": "9c23baec",
      "metadata": {
        "id": "9c23baec"
      },
      "source": [
        "Question 4: Use a line chart to visualize how many movies have been produced in `USA` from `2010` to `2015`."
      ]
    },
    {
      "cell_type": "code",
      "execution_count": 14,
      "id": "3c385215",
      "metadata": {
        "colab": {
          "base_uri": "https://localhost:8080/",
          "height": 641
        },
        "id": "3c385215",
        "outputId": "fe2bd88e-620e-47a3-f9eb-68a35088b79f"
      },
      "outputs": [
        {
          "name": "stdout",
          "output_type": "stream",
          "text": [
            "title_year\n",
            "2010.0    167\n",
            "2011.0    164\n",
            "2012.0    173\n",
            "2013.0    171\n",
            "2014.0    187\n",
            "2015.0    171\n",
            "Name: movie_title, dtype: int64\n"
          ]
        },
        {
          "data": {
            "text/plain": [
              "<AxesSubplot: xlabel='title_year'>"
            ]
          },
          "execution_count": 14,
          "metadata": {},
          "output_type": "execute_result"
        },
        {
          "data": {
            "image/png": "[encoded data removed]",
            "text/plain": [
              "<Figure size 640x480 with 1 Axes>"
            ]
          },
          "metadata": {},
          "output_type": "display_data"
        }
      ],
      "source": [
        "data4=data[data['country']=='USA']\n",
        "# print(data4.shape)\n",
        "data4=data4[(data4['title_year'] >= 2010.0) & (data4['title_year'] <= 2015.0)]\n",
        "# print(data4.shape)\n",
        "\n",
        "data4=data4.groupby('title_year')['movie_title'].count()\n",
        "print(data4)\n",
        "# count = data3['title_year'].value_counts\n",
        "# print(count)\n",
        "data4.plot(kind='line',x='title_year', legend='movie_title')"
      ]
    }
  ],
  "metadata": {
    "colab": {
      "provenance": []
    },
    "kernelspec": {
      "display_name": "Python 3 (ipykernel)",
      "language": "python",
      "name": "python3"
    },
    "language_info": {
      "codemirror_mode": {
        "name": "ipython",
        "version": 3
      },
      "file_extension": ".py",
      "mimetype": "text/x-python",
      "name": "python",
      "nbconvert_exporter": "python",
      "pygments_lexer": "ipython3",
      "version": "3.10.0"
    }
  },
  "nbformat": 4,
  "nbformat_minor": 5
}
